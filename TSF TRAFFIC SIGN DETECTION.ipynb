{
 "cells": [
  {
   "cell_type": "markdown",
   "metadata": {},
   "source": [
    "### SAADHANA SRINATH\n",
    "Traffic Sign Detection and Recognition \n",
    "\n",
    "Dataset used - GTSRB dataset"
   ]
  },
  {
   "cell_type": "markdown",
   "metadata": {},
   "source": [
    "### Building model from scratch and training"
   ]
  },
  {
   "cell_type": "code",
   "execution_count": 1,
   "metadata": {},
   "outputs": [],
   "source": [
    "## importing the dependencies\n",
    "\n",
    "from tensorflow.keras.layers import Conv2D, MaxPool2D, Dense, Flatten, Dropout\n",
    "from tensorflow.keras.models import Sequential, load_model\n",
    "from sklearn.model_selection import train_test_split\n",
    "from tensorflow.keras.utils import to_categorical\n",
    "import matplotlib.pyplot as plt\n",
    "from PIL import Image\n",
    "import numpy as np\n",
    "import os\n",
    "\n",
    "%matplotlib inline"
   ]
  },
  {
   "cell_type": "markdown",
   "metadata": {},
   "source": [
    "##### Handling the dataset"
   ]
  },
  {
   "cell_type": "code",
   "execution_count": 2,
   "metadata": {},
   "outputs": [
    {
     "name": "stdout",
     "output_type": "stream",
     "text": [
      "Obtaining Images & its Labels..............\n",
      "(Printing the number of each folder after the folder has been loaded)\n",
      "\n",
      "0 1 2 3 4 5 6 7 8 9 10 11 12 13 14 15 16 17 18 19 20 21 22 23 24 25 26 27 28 29 30 31 32 33 34 35 36 37 38 39 40 41 42 \n",
      "\n",
      "Dataset Loaded\n",
      "(38883, 30, 30, 3) (38883,)\n"
     ]
    }
   ],
   "source": [
    "data = []\n",
    "labels = []\n",
    "classes = 43\n",
    "p = 0\n",
    "\n",
    "## specifying each class of the dataset\n",
    "classs = { 1:\"Speed limit (20km/h)\",\n",
    "    2:\"Speed limit (30km/h)\",\n",
    "    3:\"Speed limit (50km/h)\",\n",
    "    4:\"Speed limit (60km/h)\",\n",
    "    5:\"Speed limit (70km/h)\",\n",
    "    6:\"Speed limit (80km/h)\",\n",
    "    7:\"End of speed limit (80km/h)\",\n",
    "    8:\"Speed limit (100km/h)\",\n",
    "    9:\"Speed limit (120km/h)\",\n",
    "    10:\"No passing\",\n",
    "    11:\"No passing veh over 3.5 tons\",\n",
    "    12:\"Right-of-way at intersection\",\n",
    "    13:\"Priority road\",\n",
    "    14:\"Yield\",\n",
    "    15:\"Stop\",\n",
    "    16:\"No vehicles\",\n",
    "    17:\"Veh > 3.5 tons prohibited\",\n",
    "    18:\"No entry\",\n",
    "    19:\"General caution\",\n",
    "    20:\"Dangerous curve left\",\n",
    "    21:\"Dangerous curve right\",\n",
    "    22:\"Double curve\",\n",
    "    23:\"Bumpy road\",\n",
    "    24:\"Slippery road\",\n",
    "    25:\"Road narrows on the right\",\n",
    "    26:\"Road work\",\n",
    "    27:\"Traffic signals\",\n",
    "    28:\"Pedestrians\",\n",
    "    29:\"Children crossing\",\n",
    "    30:\"Bicycles crossing\",\n",
    "    31:\"Beware of ice/snow\",\n",
    "    32:\"Wild animals crossing\",\n",
    "    33:\"End speed + passing limits\",\n",
    "    34:\"Turn right ahead\",\n",
    "    35:\"Turn left ahead\",\n",
    "    36:\"Ahead only\",\n",
    "    37:\"Go straight or right\",\n",
    "    38:\"Go straight or left\",\n",
    "    39:\"Keep right\",\n",
    "    40:\"Keep left\",\n",
    "    41:\"Roundabout mandatory\",\n",
    "    42:\"End of no passing\",\n",
    "    43:\"End no passing veh > 3.5 tons\" }\n",
    "\n",
    "\n",
    "## Retrieving the images and their labels\n",
    "print(\"Obtaining Images & its Labels..............\\n(Printing the number of each folder after the folder has been loaded)\\n\")\n",
    "for i in range(classes):\n",
    "    path = os.path.join(r'G:/GTSRB Dataset/Train',str(i))\n",
    "    images = os.listdir(path)\n",
    "\n",
    "    for a in images:\n",
    "        try:\n",
    "            image = Image.open(path + '\\\\'+ a)\n",
    "            ## for uniformity\n",
    "            image = image.resize((30,30))\n",
    "            image = np.array(image)\n",
    "            data.append(image)\n",
    "            labels.append(i)\n",
    "            \n",
    "        except:\n",
    "            print(\"Error loading image\")\n",
    "            \n",
    "    print(i,end=' ')\n",
    "    \n",
    "print(\"\\n\\nDataset Loaded\")\n",
    "\n",
    "#Converting lists into numpy arrays\n",
    "data = np.array(data)\n",
    "labels = np.array(labels)\n",
    "print(data.shape, labels.shape)\n"
   ]
  },
  {
   "cell_type": "markdown",
   "metadata": {},
   "source": [
    "##### Performing Train-Test Split"
   ]
  },
  {
   "cell_type": "code",
   "execution_count": 3,
   "metadata": {},
   "outputs": [
    {
     "name": "stdout",
     "output_type": "stream",
     "text": [
      "(31106, 30, 30, 3) (7777, 30, 30, 3) (31106,) (7777,)\n"
     ]
    }
   ],
   "source": [
    "#Splitting training and testing dataset\n",
    "X_train, X_test, y_train, y_test = train_test_split(data, labels, test_size=0.2, random_state=42)\n",
    "print(X_train.shape, X_test.shape, y_train.shape, y_test.shape)\n",
    "\n",
    "#Converting the labels into one hot encoding\n",
    "y_train = to_categorical(y_train, 43)\n",
    "y_test = to_categorical(y_test, 43)     \n"
   ]
  },
  {
   "cell_type": "markdown",
   "metadata": {},
   "source": [
    "#####  Building a CNN"
   ]
  },
  {
   "cell_type": "code",
   "execution_count": 4,
   "metadata": {},
   "outputs": [
    {
     "name": "stdout",
     "output_type": "stream",
     "text": [
      "Initialized model\n"
     ]
    }
   ],
   "source": [
    "model = Sequential()\n",
    "model.add(Conv2D(filters=32, kernel_size=(5, 5), activation='relu', input_shape=X_train.shape[1:]))\n",
    "model.add(Conv2D(filters=32, kernel_size=(5, 5), activation='relu'))\n",
    "model.add(MaxPool2D(pool_size=(2, 2)))\n",
    "\n",
    "model.add(Dropout(rate=0.25))\n",
    "\n",
    "model.add(Conv2D(filters=64, kernel_size=(3, 3), activation='relu'))\n",
    "model.add(Conv2D(filters=64, kernel_size=(3, 3), activation='relu'))\n",
    "model.add(MaxPool2D(pool_size=(2, 2)))\n",
    "\n",
    "model.add(Dropout(rate=0.25))\n",
    "model.add(Flatten())\n",
    "\n",
    "model.add(Dense(256, activation='relu'))\n",
    "model.add(Dropout(rate=0.5))\n",
    "model.add(Dense(43, activation='softmax'))\n",
    "print(\"Initialized model\")\n",
    "\n",
    "# Compilation of the model\n",
    "model.compile(loss='categorical_crossentropy', optimizer='adam', metrics=['accuracy'])\n"
   ]
  },
  {
   "cell_type": "markdown",
   "metadata": {},
   "source": [
    "##### Training the model"
   ]
  },
  {
   "cell_type": "code",
   "execution_count": 5,
   "metadata": {},
   "outputs": [
    {
     "name": "stdout",
     "output_type": "stream",
     "text": [
      "Epoch 1/20\n",
      "973/973 [==============================] - 81s 83ms/step - loss: 1.7080 - accuracy: 0.5725 - val_loss: 0.3283 - val_accuracy: 0.9189\n",
      "Epoch 2/20\n",
      "973/973 [==============================] - 98s 101ms/step - loss: 0.5095 - accuracy: 0.8586 - val_loss: 0.1300 - val_accuracy: 0.9682\n",
      "Epoch 3/20\n",
      "973/973 [==============================] - 95s 97ms/step - loss: 0.3321 - accuracy: 0.9071 - val_loss: 0.0875 - val_accuracy: 0.9775\n",
      "Epoch 4/20\n",
      "973/973 [==============================] - 99s 102ms/step - loss: 0.2809 - accuracy: 0.9231 - val_loss: 0.0829 - val_accuracy: 0.9793\n",
      "Epoch 5/20\n",
      "973/973 [==============================] - 98s 100ms/step - loss: 0.2244 - accuracy: 0.9391 - val_loss: 0.0674 - val_accuracy: 0.9823\n",
      "Epoch 6/20\n",
      "973/973 [==============================] - 109s 112ms/step - loss: 0.2419 - accuracy: 0.9362 - val_loss: 0.0664 - val_accuracy: 0.9807\n",
      "Epoch 7/20\n",
      "973/973 [==============================] - 114s 118ms/step - loss: 0.2166 - accuracy: 0.9424 - val_loss: 0.0675 - val_accuracy: 0.9815\n",
      "Epoch 8/20\n",
      "973/973 [==============================] - 112s 115ms/step - loss: 0.2097 - accuracy: 0.9450 - val_loss: 0.1143 - val_accuracy: 0.9724\n",
      "Epoch 9/20\n",
      "973/973 [==============================] - 97s 99ms/step - loss: 0.1936 - accuracy: 0.9493 - val_loss: 0.0408 - val_accuracy: 0.9902\n",
      "Epoch 10/20\n",
      "973/973 [==============================] - 96s 99ms/step - loss: 0.1828 - accuracy: 0.9535 - val_loss: 0.0761 - val_accuracy: 0.9798\n",
      "Epoch 11/20\n",
      "973/973 [==============================] - 95s 98ms/step - loss: 0.1775 - accuracy: 0.9547 - val_loss: 0.0469 - val_accuracy: 0.9879\n",
      "Epoch 12/20\n",
      "973/973 [==============================] - 96s 99ms/step - loss: 0.1714 - accuracy: 0.9575 - val_loss: 0.0666 - val_accuracy: 0.9830\n",
      "Epoch 13/20\n",
      "973/973 [==============================] - 96s 99ms/step - loss: 0.2144 - accuracy: 0.9487 - val_loss: 0.0619 - val_accuracy: 0.9843\n",
      "Epoch 14/20\n",
      "973/973 [==============================] - 94s 97ms/step - loss: 0.1844 - accuracy: 0.9542 - val_loss: 0.0395 - val_accuracy: 0.9914\n",
      "Epoch 15/20\n",
      "973/973 [==============================] - 94s 96ms/step - loss: 0.2018 - accuracy: 0.9509 - val_loss: 0.0403 - val_accuracy: 0.9902\n",
      "Epoch 16/20\n",
      "973/973 [==============================] - 95s 97ms/step - loss: 0.1938 - accuracy: 0.9539 - val_loss: 0.0467 - val_accuracy: 0.9880\n",
      "Epoch 17/20\n",
      "973/973 [==============================] - 99s 102ms/step - loss: 0.1741 - accuracy: 0.9572 - val_loss: 0.0407 - val_accuracy: 0.9893\n",
      "Epoch 18/20\n",
      "973/973 [==============================] - 100s 102ms/step - loss: 0.1831 - accuracy: 0.9550 - val_loss: 0.0312 - val_accuracy: 0.9915\n",
      "Epoch 19/20\n",
      "973/973 [==============================] - 101s 103ms/step - loss: 0.1837 - accuracy: 0.9576 - val_loss: 0.0415 - val_accuracy: 0.9880\n",
      "Epoch 20/20\n",
      "973/973 [==============================] - 101s 104ms/step - loss: 0.2136 - accuracy: 0.9500 - val_loss: 0.0409 - val_accuracy: 0.9900\n",
      "Model saved to disk\n"
     ]
    }
   ],
   "source": [
    "## training\n",
    "history = model.fit(X_train, y_train, batch_size=32, epochs=20, validation_data=(X_test, y_test))\n",
    "model.save(\"Traffic.h5\")\n",
    "print(\"Model saved to disk\")"
   ]
  },
  {
   "cell_type": "code",
   "execution_count": 6,
   "metadata": {},
   "outputs": [
    {
     "data": {
      "image/png": "[encoded data removed]",
      "text/plain": [
       "<Figure size 432x288 with 1 Axes>"
      ]
     },
     "metadata": {
      "needs_background": "light"
     },
     "output_type": "display_data"
    }
   ],
   "source": [
    "plt.figure(0)\n",
    "plt.plot(history.history['accuracy'], label='training accuracy')\n",
    "plt.plot(history.history['val_accuracy'], label='val accuracy')\n",
    "plt.title('Accuracy')\n",
    "plt.xlabel('epochs')\n",
    "plt.ylabel('accuracy')\n",
    "plt.legend()\n",
    "plt.show()\n"
   ]
  },
  {
   "cell_type": "code",
   "execution_count": 7,
   "metadata": {},
   "outputs": [
    {
     "data": {
      "image/png": "[encoded data removed]",
      "text/plain": [
       "<Figure size 432x288 with 1 Axes>"
      ]
     },
     "metadata": {
      "needs_background": "light"
     },
     "output_type": "display_data"
    }
   ],
   "source": [
    "plt.figure(1)\n",
    "plt.plot(history.history['loss'], label='training loss')\n",
    "plt.plot(history.history['val_loss'], label='val loss')\n",
    "plt.title('Loss')\n",
    "plt.xlabel('epochs')\n",
    "plt.ylabel('loss')\n",
    "plt.legend()\n",
    "plt.show()"
   ]
  },
  {
   "cell_type": "markdown",
   "metadata": {},
   "source": [
    "### Using the trained model in real-time"
   ]
  },
  {
   "cell_type": "code",
   "execution_count": 1,
   "metadata": {},
   "outputs": [
    {
     "name": "stdout",
     "output_type": "stream",
     "text": [
      "Model Loaded Successfully\n"
     ]
    }
   ],
   "source": [
    "## importing the libraries and the trained model\n",
    "\n",
    "import cv2\n",
    "import imutils\n",
    "import urllib.request\n",
    "import numpy as np\n",
    "from PIL import Image\n",
    "from tensorflow.keras.models import load_model\n",
    "\n",
    "model = load_model('Traffic.h5')\n",
    "print(\"Model Loaded Successfully\")"
   ]
  },
  {
   "cell_type": "code",
   "execution_count": 2,
   "metadata": {},
   "outputs": [],
   "source": [
    "classes = 43\n",
    "classs = { 1:\"Speed limit (20km/h)\",\n",
    "    2:\"Speed limit (30km/h)\",\n",
    "    3:\"Speed limit (50km/h)\",\n",
    "    4:\"Speed limit (60km/h)\",\n",
    "    5:\"Speed limit (70km/h)\",\n",
    "    6:\"Speed limit (80km/h)\",\n",
    "    7:\"End of speed limit (80km/h)\",\n",
    "    8:\"Speed limit (100km/h)\",\n",
    "    9:\"Speed limit (120km/h)\",\n",
    "    10:\"No passing\",\n",
    "    11:\"No passing veh over 3.5 tons\",\n",
    "    12:\"Right-of-way at intersection\",\n",
    "    13:\"Priority road\",\n",
    "    14:\"Yield\",\n",
    "    15:\"Stop\",\n",
    "    16:\"No vehicles\",\n",
    "    17:\"Veh > 3.5 tons prohibited\",\n",
    "    18:\"No entry\",\n",
    "    19:\"General caution\",\n",
    "    20:\"Dangerous curve left\",\n",
    "    21:\"Dangerous curve right\",\n",
    "    22:\"Double curve\",\n",
    "    23:\"Bumpy road\",\n",
    "    24:\"Slippery road\",\n",
    "    25:\"Road narrows on the right\",\n",
    "    26:\"Road work\",\n",
    "    27:\"Traffic signals\",\n",
    "    28:\"Pedestrians\",\n",
    "    29:\"Children crossing\",\n",
    "    30:\"Bicycles crossing\",\n",
    "    31:\"Beware of ice/snow\",\n",
    "    32:\"Wild animals crossing\",\n",
    "    33:\"End speed + passing limits\",\n",
    "    34:\"Turn right ahead\",\n",
    "    35:\"Turn left ahead\",\n",
    "    36:\"Ahead only\",\n",
    "    37:\"Go straight or right\",\n",
    "    38:\"Go straight or left\",\n",
    "    39:\"Keep right\",\n",
    "    40:\"Keep left\",\n",
    "    41:\"Roundabout mandatory\",\n",
    "    42:\"End of no passing\",\n",
    "    43:\"End no passing veh > 3.5 tons\" }\n"
   ]
  },
  {
   "cell_type": "markdown",
   "metadata": {},
   "source": [
    "##### Recognising signs in an img"
   ]
  },
  {
   "cell_type": "code",
   "execution_count": 3,
   "metadata": {},
   "outputs": [
    {
     "name": "stdout",
     "output_type": "stream",
     "text": [
      "<bound method Model.predict of <tensorflow.python.keras.engine.sequential.Sequential object at 0x0000020BE9348E08>>\n"
     ]
    },
    {
     "name": "stderr",
     "output_type": "stream",
     "text": [
      "C:\\Users\\hp\\anaconda3\\lib\\site-packages\\tensorflow\\python\\keras\\engine\\sequential.py:455: UserWarning: `model.predict_classes()` is deprecated and will be removed after 2021-01-01. Please use instead:* `np.argmax(model.predict(x), axis=-1)`,   if your model does multi-class classification   (e.g. if it uses a `softmax` last-layer activation).* `(model.predict(x) > 0.5).astype(\"int32\")`,   if your model does binary classification   (e.g. if it uses a `sigmoid` last-layer activation).\n",
      "  warnings.warn('`model.predict_classes()` is deprecated and '\n"
     ]
    },
    {
     "name": "stdout",
     "output_type": "stream",
     "text": [
      "Turn right ahead\n"
     ]
    }
   ],
   "source": [
    "## loading the image \n",
    "img = cv2.imread('Sign1.png')\n",
    "    \n",
    "img1 = Image.fromarray(img,\"RGB\")\n",
    "test_image = img1.resize((30, 30))\n",
    "test_image = np.expand_dims(test_image, axis=0)\n",
    "test_image = np.array(test_image) \n",
    "    \n",
    "print(model.predict)\n",
    "result = model.predict_classes(test_image)[0]\n",
    "sign = classs[result + 1]\n",
    "print(sign)\n",
    "cv2.putText(img,sign,(15,30),cv2.FONT_HERSHEY_SIMPLEX,0.8,(0,0,255),2)\n",
    "img = imutils.resize(img,width=500)  \n",
    "    \n",
    "    \n",
    "cv2.imshow('image',img)\n",
    "\n",
    "cv2.waitKey(0)\n",
    "cv2.destroyAllWindows()\n"
   ]
  },
  {
   "cell_type": "markdown",
   "metadata": {},
   "source": [
    "##### Real-time Recognition"
   ]
  },
  {
   "cell_type": "code",
   "execution_count": null,
   "metadata": {},
   "outputs": [],
   "source": [
    "url='http://192.168.8.126:8080/shot.jpg'\n",
    "\n",
    "while True:\n",
    "\n",
    "    imgPath = urllib.request.urlopen(url)           ## to access, open the url and then load it into the variable\n",
    "    imgNp = np.array(bytearray(imgPath.read()), dtype=np.uint8)    ## obtaining the data from the url\n",
    "    frame = cv2.imdecode(imgNp, -1)   \n",
    "    \n",
    "    img = Image.fromarray(frame,\"RGB\")\n",
    "    test_image = img.resize((30, 30))\n",
    "    test_image = np.expand_dims(test_image, axis=0)\n",
    "    test_image = np.array(test_image)\n",
    "\n",
    "    result = model.predict_classes(test_image)[0]\n",
    "    sign = classs[result + 1]\n",
    "    print(sign)\n",
    "    cv2.putText(frame,sign,(15,30),cv2.FONT_HERSHEY_COMPLEX_SMALL,2,(0,0,255),2)\n",
    "    frame = imutils.resize(frame,width=500)\n",
    "    \n",
    "    cv2.imshow(\"Capturing\",frame)\n",
    "    key = cv2.waitKey(1) & 0xff\n",
    "    if key == 27:\n",
    "        break\n",
    "\n",
    "cam.release()\n",
    "cv2.destroyAllWindows()"
   ]
  },
  {
   "cell_type": "code",
   "execution_count": null,
   "metadata": {},
   "outputs": [],
   "source": []
  }
 ],
 "metadata": {
  "kernelspec": {
   "display_name": "Python 3",
   "language": "python",
   "name": "python3"
  },
  "language_info": {
   "codemirror_mode": {
    "name": "ipython",
    "version": 3
   },
   "file_extension": ".py",
   "mimetype": "text/x-python",
   "name": "python",
   "nbconvert_exporter": "python",
   "pygments_lexer": "ipython3",
   "version": "3.7.6"
  }
 },
 "nbformat": 4,
 "nbformat_minor": 4
}
